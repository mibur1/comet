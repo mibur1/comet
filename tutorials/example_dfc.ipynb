{
 "cells": [
  {
   "cell_type": "markdown",
   "metadata": {},
   "source": [
    "### Usage example: Dynamic functional connectivity\n",
    "\n",
    "Required comet modules are:\n",
    "* comet.methods (contains all dFC methods)\n",
    "* comet.data (contains example data)\n",
    "* comet.gui (allows GUI interaction within a script)\n",
    "\n",
    "The example data is of shape (1040, 10), which corresponds to 1040 time points and 10 brain regions.\n",
    "All connectivity methods require time to be the first dimension in the time series."
   ]
  },
  {
   "cell_type": "code",
   "execution_count": 1,
   "metadata": {},
   "outputs": [
    {
     "name": "stdout",
     "output_type": "stream",
     "text": [
      "(1040, 10)\n"
     ]
    }
   ],
   "source": [
    "from comet import methods, data, gui\n",
    "\n",
    "ts = data.load_example()\n",
    "print(ts.shape)"
   ]
  },
  {
   "cell_type": "markdown",
   "metadata": {},
   "source": [
    "dFC can then be estimated with any of the included methods. Examples are:"
   ]
  },
  {
   "cell_type": "code",
   "execution_count": 2,
   "metadata": {},
   "outputs": [
    {
     "name": "stderr",
     "output_type": "stream",
     "text": [
      "100%|██████████| 10/10 [00:00<00:00, 730.32it/s]\n"
     ]
    },
    {
     "name": "stdout",
     "output_type": "stream",
     "text": [
      "(10, 10, 1040)\n"
     ]
    }
   ],
   "source": [
    "# Tapered sliding window\n",
    "tsw = methods.SlidingWindow(ts, windowsize=21, shape=\"gaussian\", std=7)\n",
    "dfc_tsw = tsw.connectivity()\n",
    "\n",
    "# Jackknife Correlation\n",
    "jc = methods.Jackknife(ts)\n",
    "dfc_jc = jc.connectivity()\n",
    "\n",
    "# Flexible Least Squares\n",
    "fls = methods.FlexibleLeastSquares(ts, mu=100)\n",
    "dfc_fls = fls.connectivity()\n",
    "print(dfc_fls.shape)"
   ]
  },
  {
   "cell_type": "markdown",
   "metadata": {},
   "source": [
    "If required, the resulting dFC estimates can then be inspected in the GUI before further analysis:"
   ]
  },
  {
   "cell_type": "code",
   "execution_count": 3,
   "metadata": {},
   "outputs": [
    {
     "name": "stdout",
     "output_type": "stream",
     "text": [
      "GUI closed with status 0\n"
     ]
    }
   ],
   "source": [
    "gui.run(dfc_data=dfc_jc, method=jc)"
   ]
  }
 ],
 "metadata": {
  "kernelspec": {
   "display_name": "dfc-multiverse",
   "language": "python",
   "name": "python3"
  },
  "language_info": {
   "codemirror_mode": {
    "name": "ipython",
    "version": 3
   },
   "file_extension": ".py",
   "mimetype": "text/x-python",
   "name": "python",
   "nbconvert_exporter": "python",
   "pygments_lexer": "ipython3",
   "version": "3.11.5"
  }
 },
 "nbformat": 4,
 "nbformat_minor": 2
}
