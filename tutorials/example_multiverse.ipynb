{
 "cells": [
  {
   "cell_type": "markdown",
   "metadata": {},
   "source": [
    "### Usage example: Multiverse Analysis\n",
    "\n",
    "Required comet modules are:\n",
    "\n",
    "* ```comet.multiverse``` (contains all functions related to multiverse analysis)\n",
    "\n",
    "To conduct a multiverse analysis, the forking paths must be specified in a dictionary. Options can contain:\n",
    "\n",
    "* strings\n",
    "* numerical values\n",
    "* boolean values\n",
    "* comet dFC methods\n",
    "* comet and bct graph measures"
   ]
  },
  {
   "cell_type": "code",
   "execution_count": 1,
   "metadata": {},
   "outputs": [],
   "source": [
    "from comet.multiverse import Multiverse\n",
    "\n",
    "forking_paths = {\n",
    "    \"strings\": [\"Hello\", \"world\"],\n",
    "    \"numbers\": [1, 2, 4.2],\n",
    "    \"booleans\": [True, False],\n",
    "\n",
    "    \"dfc_measures\": [{\n",
    "                        \"name\": \"LeiDA\",\n",
    "                        \"func\": \"comet.connectivity.LeiDA\",\n",
    "                        \"args\": {\n",
    "                                \"time_series\": \"ts\"\n",
    "                                }\n",
    "                        },\n",
    "                        {\n",
    "                        \"name\": \"JC11\",\n",
    "                        \"func\": \"comet.connectivity.Jackknife\",\n",
    "                        \"args\": {\n",
    "                                \"time_series\": \"ts\",\n",
    "                                \"windowsize\": 11,\n",
    "                                }\n",
    "                        }],\n",
    "\n",
    "    \"graph_measures\": [{\n",
    "                        \"name\": \"eff_bct\",\n",
    "                        \"func\": \"bct.efficiency_wei\",\n",
    "                        \"args\": {\n",
    "                                \"G\": \"W\",\n",
    "                                \"local\": True,\n",
    "                                }\n",
    "                        },\n",
    "                        {\n",
    "                        \"name\": \"eff_comet\",\n",
    "                        \"func\": \"comet.graph.efficiency\",\n",
    "                        \"args\": {\n",
    "                                \"W\": \"W\",\n",
    "                                \"local\": True,\n",
    "                                }\n",
    "                        }]\n",
    "}\n",
    "\n",
    "# Universes that contain the following decisions (in order, but not required to be contiguous) will not be allowed\n",
    "invalid_paths = [(\"Hello\", 4.2),\n",
    "                 (\"world\", \"eff_bct\")]"
   ]
  },
  {
   "cell_type": "markdown",
   "metadata": {},
   "source": [
    "With the decisions and options defined, an analysis template has to be specified. This is similar to a standard analysis pipeline with three additional requirements:\n",
    "\n",
    "* The template is required to be encapsulated in a dedicated function\n",
    "* Required imports need to be within the template function\n",
    "* Decision points need to be specified in double brackets: ```{{decision}}```\n",
    "\n",
    "In this brief example, the corresponding string, number, and boolean decision will be printed in each universe. Then, connevtivity will be estimated with the corresponding dFC method, and local efficiency is calculated with either the BCT or Comet implementation:"
   ]
  },
  {
   "cell_type": "code",
   "execution_count": 2,
   "metadata": {},
   "outputs": [],
   "source": [
    "def analysis_template():\n",
    "    import os\n",
    "    import numpy as np\n",
    "    import bct\n",
    "    import comet\n",
    "\n",
    "    print(f\"Decision 1: {{strings}}\")\n",
    "    print(f\"Decision 2: {{numbers}}\")\n",
    "    print(f\"Decision 3:{{booleans}}\")\n",
    "\n",
    "    # Load example data and calculate dFC + local efficiency\n",
    "    ts = comet.data.load_example()\n",
    "    dfc = {{dfc_measures}}\n",
    "    dfc = dfc[0] if isinstance(dfc, tuple) else dfc #required as LeiDA returns multiple outputs\n",
    "\n",
    "    efficiency = np.zeros((ts.shape[0], dfc.shape[1]))\n",
    "    for i in range(dfc.shape[2]):\n",
    "        W = dfc[:, :, i]\n",
    "        W = np.abs(W)\n",
    "        efficiency[i] = {{graph_measures}}\n",
    "\n",
    "    result = {\"efficiency\": efficiency}\n",
    "    comet.data.save_universe_results(result, universe=os.path.abspath(__file__))"
   ]
  },
  {
   "cell_type": "markdown",
   "metadata": {},
   "source": [
    "The forking paths dictionary defines 5 decision points consisting of 2 options each. Thus, the resulting multiverse will contain 2⁵=32 universes. A ```Multiverse``` object has to be created and can then be used to create, run, summarize, and visualize the multiverse.\n",
    "\n",
    "* ```multiverse.create()``` will generate Python scripts for all 32 universes. These scripts will be saved in a newly created ```example_multiverse/``` folder\n",
    "* ```multiverse.summary()``` will print the decisions for every universe. This information is also available as a .csv in the ```example_multiverse/results/``` folder\n",
    "* ```multiverse.run()``` will either run all or individual universes. If the computational resources allow for it, this can be parallelized by using e.g. ```multiverse.run(parallel=4)```"
   ]
  },
  {
   "cell_type": "code",
   "execution_count": 3,
   "metadata": {},
   "outputs": [
    {
     "data": {
      "text/html": [
       "<div>\n",
       "<style scoped>\n",
       "    .dataframe tbody tr th:only-of-type {\n",
       "        vertical-align: middle;\n",
       "    }\n",
       "\n",
       "    .dataframe tbody tr th {\n",
       "        vertical-align: top;\n",
       "    }\n",
       "\n",
       "    .dataframe thead th {\n",
       "        text-align: right;\n",
       "    }\n",
       "</style>\n",
       "<table border=\"1\" class=\"dataframe\">\n",
       "  <thead>\n",
       "    <tr style=\"text-align: right;\">\n",
       "      <th></th>\n",
       "      <th>Universe</th>\n",
       "      <th>strings</th>\n",
       "      <th>numbers</th>\n",
       "      <th>booleans</th>\n",
       "      <th>dfc_measures</th>\n",
       "      <th>graph_measures</th>\n",
       "    </tr>\n",
       "  </thead>\n",
       "  <tbody>\n",
       "    <tr>\n",
       "      <th>0</th>\n",
       "      <td>Universe_1</td>\n",
       "      <td>Hello</td>\n",
       "      <td>1.0</td>\n",
       "      <td>True</td>\n",
       "      <td>LeiDA</td>\n",
       "      <td>eff_bct</td>\n",
       "    </tr>\n",
       "    <tr>\n",
       "      <th>1</th>\n",
       "      <td>Universe_2</td>\n",
       "      <td>Hello</td>\n",
       "      <td>1.0</td>\n",
       "      <td>True</td>\n",
       "      <td>LeiDA</td>\n",
       "      <td>eff_comet</td>\n",
       "    </tr>\n",
       "    <tr>\n",
       "      <th>2</th>\n",
       "      <td>Universe_3</td>\n",
       "      <td>Hello</td>\n",
       "      <td>1.0</td>\n",
       "      <td>True</td>\n",
       "      <td>JC11</td>\n",
       "      <td>eff_bct</td>\n",
       "    </tr>\n",
       "    <tr>\n",
       "      <th>3</th>\n",
       "      <td>Universe_4</td>\n",
       "      <td>Hello</td>\n",
       "      <td>1.0</td>\n",
       "      <td>True</td>\n",
       "      <td>JC11</td>\n",
       "      <td>eff_comet</td>\n",
       "    </tr>\n",
       "    <tr>\n",
       "      <th>4</th>\n",
       "      <td>Universe_5</td>\n",
       "      <td>Hello</td>\n",
       "      <td>1.0</td>\n",
       "      <td>False</td>\n",
       "      <td>LeiDA</td>\n",
       "      <td>eff_bct</td>\n",
       "    </tr>\n",
       "  </tbody>\n",
       "</table>\n",
       "</div>"
      ],
      "text/plain": [
       "     Universe strings  numbers  booleans dfc_measures graph_measures\n",
       "0  Universe_1   Hello      1.0      True        LeiDA        eff_bct\n",
       "1  Universe_2   Hello      1.0      True        LeiDA      eff_comet\n",
       "2  Universe_3   Hello      1.0      True         JC11        eff_bct\n",
       "3  Universe_4   Hello      1.0      True         JC11      eff_comet\n",
       "4  Universe_5   Hello      1.0     False        LeiDA        eff_bct"
      ]
     },
     "metadata": {},
     "output_type": "display_data"
    }
   ],
   "source": [
    "multiverse = Multiverse(name=\"example_decisions\")\n",
    "multiverse.create(analysis_template, forking_paths, invalid_paths)\n",
    "multiverse.summary();"
   ]
  },
  {
   "cell_type": "markdown",
   "metadata": {},
   "source": [
    "You can now run individual universes by specifying a number, or run all of them (parallelization is then also supported):"
   ]
  },
  {
   "cell_type": "code",
   "execution_count": 4,
   "metadata": {},
   "outputs": [
    {
     "name": "stdout",
     "output_type": "stream",
     "text": [
      "Starting analysis for universe 1...\n",
      "Running universe_1.py\n",
      "Decision 1: 'Hello'\n",
      "Decision 2: 1\n",
      "Decision 3:True\n",
      "Calculating LeiDA, please wait...\n"
     ]
    }
   ],
   "source": [
    "multiverse.run(universe_number=1)"
   ]
  }
 ],
 "metadata": {
  "kernelspec": {
   "display_name": "dfc-multiverse",
   "language": "python",
   "name": "python3"
  },
  "language_info": {
   "codemirror_mode": {
    "name": "ipython",
    "version": 3
   },
   "file_extension": ".py",
   "mimetype": "text/x-python",
   "name": "python",
   "nbconvert_exporter": "python",
   "pygments_lexer": "ipython3",
   "version": "3.10.0"
  }
 },
 "nbformat": 4,
 "nbformat_minor": 2
}
