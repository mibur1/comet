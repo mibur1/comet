{
 "cells": [
  {
   "cell_type": "markdown",
   "metadata": {},
   "source": [
    "# Usage example: Multiverse Analysis\n",
    "\n",
    "To conduct a multiverse analysis, the forking paths must be specified in a dictionary. Options can contain:\n",
    "\n",
    "* strings\n",
    "* numerical values\n",
    "* boolean values\n",
    "* comet dFC methods\n",
    "* comet and bct graph measures\n",
    "* any kind of function"
   ]
  },
  {
   "cell_type": "code",
   "execution_count": 1,
   "metadata": {},
   "outputs": [],
   "source": [
    "from comet.multiverse import Multiverse\n",
    "\n",
    "forking_paths = {\n",
    "    \"strings\": [\"'Hello'\", \"'world'\"],\n",
    "    \"numbers\": [1, 2, 4.2],\n",
    "    \"booleans\": [True, False],\n",
    "    \"dfc_measures\": [\n",
    "        {\"name\": \"LeiDA\", \"func\": \"comet.connectivity.LeiDA(time_series=ts).estimate()\"},\n",
    "        {\"name\": \"JC11\", \"func\": \"comet.connectivity.Jackknife(time_series=ts, windowsize=11).estimate()\"}],\n",
    "    \"graph_measures\": [\n",
    "        {\"name\": \"efficiency\", \"func\": \"comet.graph.efficiency(G, local= False)\"},\n",
    "        {\"name\": \"clustering\", \"func\": \"comet.graph.avg_clustering_onella(G)\"}],\n",
    "}\n",
    "\n",
    "config = {\n",
    "    \"order\": [\n",
    "        (\"strings\", \"numbers\", \"booleans\", \"dfc_measures\", \"graph_measures\"),\n",
    "        (\"strings\", \"booleans\", \"numbers\", \"dfc_measures\", \"graph_measures\")],\n",
    "    \"invalid_paths\": [\n",
    "        (\"Hello\", 4.2)]\n",
    "}"
   ]
  },
  {
   "cell_type": "markdown",
   "metadata": {},
   "source": [
    "With the decisions and options defined, an analysis template has to be specified. This is similar to a standard analysis pipeline with three additional requirements:\n",
    "\n",
    "* The template is required to be encapsulated in a dedicated function\n",
    "* Required imports need to be within the template function\n",
    "* Decision points need to be specified in double brackets: ```{{decision}}```\n",
    "\n",
    "In this brief example, the corresponding string, number, and boolean decision will be printed in each universe. Then, connevtivity will be estimated with the corresponding dFC method, and a graph measure (local efficiency or clustering) is calculated:"
   ]
  },
  {
   "cell_type": "code",
   "execution_count": 2,
   "metadata": {},
   "outputs": [],
   "source": [
    "def analysis_template():\n",
    "    import comet\n",
    "\n",
    "    print(f\"Decision 1: {{strings}}\")\n",
    "    print(f\"Decision 2: {{numbers}}\")\n",
    "    print(f\"Decision 3:{{booleans}}\")\n",
    "\n",
    "    # Load example data and calculate dFC\n",
    "    ts = comet.utils.load_example()\n",
    "    dfc = {{dfc_measures}}\n",
    "\n",
    "    # Calculate graph measure\n",
    "    graph_measure = []\n",
    "    for i in range(dfc.shape[2]):\n",
    "        G = dfc[:, :, i]\n",
    "        G = comet.graph.handle_negative_weights(G, type=\"absolute\")\n",
    "        G = comet.graph.threshold(G, type=\"density\", density=0.5)\n",
    "        G = comet.graph.binarise(G)\n",
    "        graph_measure.append({{graph_measures}})\n",
    "\n",
    "    # Save the results\n",
    "    result = {\"graph_measure\": graph_measure}\n",
    "    comet.utils.save_universe_results(result)"
   ]
  },
  {
   "cell_type": "markdown",
   "metadata": {},
   "source": [
    "The forking paths dictionary defines 5 decision points consisting of 2 options each. Thus, the resulting multiverse will contain 2⁵=32 universes. A ```Multiverse``` object has to be created and can then be used to create, run, summarize, and visualize the multiverse.\n",
    "\n",
    "* ```multiverse.create()``` will generate Python scripts for all 32 universes. These scripts will be saved in a newly created ```example_multiverse/``` folder\n",
    "* ```multiverse.summary()``` will print the decisions for every universe. This information is also available as a .csv in the ```example_multiverse/results/``` folder\n",
    "* ```multiverse.run()``` will either run all or individual universes. If the computational resources allow for it, this can be parallelized by using e.g. ```multiverse.run(parallel=4)```"
   ]
  },
  {
   "cell_type": "code",
   "execution_count": 3,
   "metadata": {},
   "outputs": [
    {
     "name": "stdout",
     "output_type": "stream",
     "text": [
      "   ❌ Removed 0 out of 96 total universes.\n"
     ]
    },
    {
     "data": {
      "text/html": [
       "<div>\n",
       "<style scoped>\n",
       "    .dataframe tbody tr th:only-of-type {\n",
       "        vertical-align: middle;\n",
       "    }\n",
       "\n",
       "    .dataframe tbody tr th {\n",
       "        vertical-align: top;\n",
       "    }\n",
       "\n",
       "    .dataframe thead th {\n",
       "        text-align: right;\n",
       "    }\n",
       "</style>\n",
       "<table border=\"1\" class=\"dataframe\">\n",
       "  <thead>\n",
       "    <tr style=\"text-align: right;\">\n",
       "      <th></th>\n",
       "      <th>Universe</th>\n",
       "      <th>Decision 1</th>\n",
       "      <th>Value 1</th>\n",
       "      <th>Decision 2</th>\n",
       "      <th>Value 2</th>\n",
       "      <th>Decision 3</th>\n",
       "      <th>Value 3</th>\n",
       "      <th>Decision 4</th>\n",
       "      <th>Value 4</th>\n",
       "      <th>Decision 5</th>\n",
       "      <th>Value 5</th>\n",
       "    </tr>\n",
       "  </thead>\n",
       "  <tbody>\n",
       "    <tr>\n",
       "      <th>0</th>\n",
       "      <td>Universe_1</td>\n",
       "      <td>strings</td>\n",
       "      <td>'Hello'</td>\n",
       "      <td>numbers</td>\n",
       "      <td>1</td>\n",
       "      <td>booleans</td>\n",
       "      <td>True</td>\n",
       "      <td>dfc_measures</td>\n",
       "      <td>LeiDA</td>\n",
       "      <td>graph_measures</td>\n",
       "      <td>efficiency</td>\n",
       "    </tr>\n",
       "    <tr>\n",
       "      <th>1</th>\n",
       "      <td>Universe_2</td>\n",
       "      <td>strings</td>\n",
       "      <td>'Hello'</td>\n",
       "      <td>numbers</td>\n",
       "      <td>1</td>\n",
       "      <td>booleans</td>\n",
       "      <td>True</td>\n",
       "      <td>dfc_measures</td>\n",
       "      <td>LeiDA</td>\n",
       "      <td>graph_measures</td>\n",
       "      <td>clustering</td>\n",
       "    </tr>\n",
       "    <tr>\n",
       "      <th>2</th>\n",
       "      <td>Universe_3</td>\n",
       "      <td>strings</td>\n",
       "      <td>'Hello'</td>\n",
       "      <td>numbers</td>\n",
       "      <td>1</td>\n",
       "      <td>booleans</td>\n",
       "      <td>True</td>\n",
       "      <td>dfc_measures</td>\n",
       "      <td>JC11</td>\n",
       "      <td>graph_measures</td>\n",
       "      <td>efficiency</td>\n",
       "    </tr>\n",
       "    <tr>\n",
       "      <th>3</th>\n",
       "      <td>Universe_4</td>\n",
       "      <td>strings</td>\n",
       "      <td>'Hello'</td>\n",
       "      <td>numbers</td>\n",
       "      <td>1</td>\n",
       "      <td>booleans</td>\n",
       "      <td>True</td>\n",
       "      <td>dfc_measures</td>\n",
       "      <td>JC11</td>\n",
       "      <td>graph_measures</td>\n",
       "      <td>clustering</td>\n",
       "    </tr>\n",
       "    <tr>\n",
       "      <th>4</th>\n",
       "      <td>Universe_5</td>\n",
       "      <td>strings</td>\n",
       "      <td>'Hello'</td>\n",
       "      <td>numbers</td>\n",
       "      <td>1</td>\n",
       "      <td>booleans</td>\n",
       "      <td>False</td>\n",
       "      <td>dfc_measures</td>\n",
       "      <td>LeiDA</td>\n",
       "      <td>graph_measures</td>\n",
       "      <td>efficiency</td>\n",
       "    </tr>\n",
       "    <tr>\n",
       "      <th>...</th>\n",
       "      <td>...</td>\n",
       "      <td>...</td>\n",
       "      <td>...</td>\n",
       "      <td>...</td>\n",
       "      <td>...</td>\n",
       "      <td>...</td>\n",
       "      <td>...</td>\n",
       "      <td>...</td>\n",
       "      <td>...</td>\n",
       "      <td>...</td>\n",
       "      <td>...</td>\n",
       "    </tr>\n",
       "    <tr>\n",
       "      <th>91</th>\n",
       "      <td>Universe_92</td>\n",
       "      <td>strings</td>\n",
       "      <td>'world'</td>\n",
       "      <td>booleans</td>\n",
       "      <td>False</td>\n",
       "      <td>numbers</td>\n",
       "      <td>2</td>\n",
       "      <td>dfc_measures</td>\n",
       "      <td>JC11</td>\n",
       "      <td>graph_measures</td>\n",
       "      <td>clustering</td>\n",
       "    </tr>\n",
       "    <tr>\n",
       "      <th>92</th>\n",
       "      <td>Universe_93</td>\n",
       "      <td>strings</td>\n",
       "      <td>'world'</td>\n",
       "      <td>booleans</td>\n",
       "      <td>False</td>\n",
       "      <td>numbers</td>\n",
       "      <td>4.2</td>\n",
       "      <td>dfc_measures</td>\n",
       "      <td>LeiDA</td>\n",
       "      <td>graph_measures</td>\n",
       "      <td>efficiency</td>\n",
       "    </tr>\n",
       "    <tr>\n",
       "      <th>93</th>\n",
       "      <td>Universe_94</td>\n",
       "      <td>strings</td>\n",
       "      <td>'world'</td>\n",
       "      <td>booleans</td>\n",
       "      <td>False</td>\n",
       "      <td>numbers</td>\n",
       "      <td>4.2</td>\n",
       "      <td>dfc_measures</td>\n",
       "      <td>LeiDA</td>\n",
       "      <td>graph_measures</td>\n",
       "      <td>clustering</td>\n",
       "    </tr>\n",
       "    <tr>\n",
       "      <th>94</th>\n",
       "      <td>Universe_95</td>\n",
       "      <td>strings</td>\n",
       "      <td>'world'</td>\n",
       "      <td>booleans</td>\n",
       "      <td>False</td>\n",
       "      <td>numbers</td>\n",
       "      <td>4.2</td>\n",
       "      <td>dfc_measures</td>\n",
       "      <td>JC11</td>\n",
       "      <td>graph_measures</td>\n",
       "      <td>efficiency</td>\n",
       "    </tr>\n",
       "    <tr>\n",
       "      <th>95</th>\n",
       "      <td>Universe_96</td>\n",
       "      <td>strings</td>\n",
       "      <td>'world'</td>\n",
       "      <td>booleans</td>\n",
       "      <td>False</td>\n",
       "      <td>numbers</td>\n",
       "      <td>4.2</td>\n",
       "      <td>dfc_measures</td>\n",
       "      <td>JC11</td>\n",
       "      <td>graph_measures</td>\n",
       "      <td>clustering</td>\n",
       "    </tr>\n",
       "  </tbody>\n",
       "</table>\n",
       "<p>96 rows × 11 columns</p>\n",
       "</div>"
      ],
      "text/plain": [
       "       Universe Decision 1  Value 1 Decision 2 Value 2 Decision 3 Value 3  \\\n",
       "0    Universe_1    strings  'Hello'    numbers       1   booleans    True   \n",
       "1    Universe_2    strings  'Hello'    numbers       1   booleans    True   \n",
       "2    Universe_3    strings  'Hello'    numbers       1   booleans    True   \n",
       "3    Universe_4    strings  'Hello'    numbers       1   booleans    True   \n",
       "4    Universe_5    strings  'Hello'    numbers       1   booleans   False   \n",
       "..          ...        ...      ...        ...     ...        ...     ...   \n",
       "91  Universe_92    strings  'world'   booleans   False    numbers       2   \n",
       "92  Universe_93    strings  'world'   booleans   False    numbers     4.2   \n",
       "93  Universe_94    strings  'world'   booleans   False    numbers     4.2   \n",
       "94  Universe_95    strings  'world'   booleans   False    numbers     4.2   \n",
       "95  Universe_96    strings  'world'   booleans   False    numbers     4.2   \n",
       "\n",
       "      Decision 4 Value 4      Decision 5     Value 5  \n",
       "0   dfc_measures   LeiDA  graph_measures  efficiency  \n",
       "1   dfc_measures   LeiDA  graph_measures  clustering  \n",
       "2   dfc_measures    JC11  graph_measures  efficiency  \n",
       "3   dfc_measures    JC11  graph_measures  clustering  \n",
       "4   dfc_measures   LeiDA  graph_measures  efficiency  \n",
       "..           ...     ...             ...         ...  \n",
       "91  dfc_measures    JC11  graph_measures  clustering  \n",
       "92  dfc_measures   LeiDA  graph_measures  efficiency  \n",
       "93  dfc_measures   LeiDA  graph_measures  clustering  \n",
       "94  dfc_measures    JC11  graph_measures  efficiency  \n",
       "95  dfc_measures    JC11  graph_measures  clustering  \n",
       "\n",
       "[96 rows x 11 columns]"
      ]
     },
     "metadata": {},
     "output_type": "display_data"
    }
   ],
   "source": [
    "multiverse = Multiverse(name=\"example_multiverse\")\n",
    "multiverse.create(analysis_template, forking_paths, config)\n",
    "multiverse.summary();"
   ]
  },
  {
   "cell_type": "markdown",
   "metadata": {},
   "source": [
    "You can now run individual universes by specifying a number, or run all of them (parallelization is also supported):"
   ]
  },
  {
   "cell_type": "code",
   "execution_count": 4,
   "metadata": {},
   "outputs": [
    {
     "name": "stdout",
     "output_type": "stream",
     "text": [
      "Starting analysis for universe(s): [1, 2]...\n"
     ]
    },
    {
     "data": {
      "application/vnd.jupyter.widget-view+json": {
       "model_id": "f45f10fd7b9640c0914ca289f2c89a1e",
       "version_major": 2,
       "version_minor": 0
      },
      "text/plain": [
       "  0%|          | 0/2 [00:00<?, ?it/s]"
      ]
     },
     "metadata": {},
     "output_type": "display_data"
    },
    {
     "name": "stdout",
     "output_type": "stream",
     "text": [
      "Decision 1: 'Hello'\n",
      "Decision 2: 1\n",
      "Decision 3:True\n",
      "Decision 1: 'Hello'\n",
      "Decision 2: 1\n",
      "Decision 3:True\n",
      "The multiverse analysis completed without any errors.\n"
     ]
    }
   ],
   "source": [
    "multiverse.run(universe=[1,2], parallel=2)"
   ]
  },
  {
   "cell_type": "markdown",
   "metadata": {},
   "source": [
    "After this, the results from all universes can be loaded:"
   ]
  },
  {
   "cell_type": "code",
   "execution_count": 5,
   "metadata": {},
   "outputs": [
    {
     "data": {
      "image/png": "[encoded data removed]",
      "text/plain": [
       "<Figure size 640x480 with 1 Axes>"
      ]
     },
     "metadata": {},
     "output_type": "display_data"
    }
   ],
   "source": [
    "from matplotlib import pyplot as plt\n",
    "\n",
    "results = multiverse.get_results()\n",
    "\n",
    "# Plot the results\n",
    "fig, ax = plt.subplots()\n",
    "for i, universe in enumerate(results.keys()):\n",
    "    ax.plot(results[universe][\"graph_measure\"], label=f\"Universe {i+1}\")\n",
    "\n",
    "ax.set(title=\"Multiverse results\", ylabel=\"Graph measure\", xlabel=\"time\");\n",
    "ax.legend();"
   ]
  }
 ],
 "metadata": {
  "kernelspec": {
   "display_name": "dfc-multiverse",
   "language": "python",
   "name": "python3"
  },
  "language_info": {
   "codemirror_mode": {
    "name": "ipython",
    "version": 3
   },
   "file_extension": ".py",
   "mimetype": "text/x-python",
   "name": "python",
   "nbconvert_exporter": "python",
   "pygments_lexer": "ipython3",
   "version": "3.11.0"
  }
 },
 "nbformat": 4,
 "nbformat_minor": 2
}
