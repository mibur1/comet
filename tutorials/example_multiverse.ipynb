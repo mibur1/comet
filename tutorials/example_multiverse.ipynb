{
 "cells": [
  {
   "cell_type": "markdown",
   "metadata": {},
   "source": [
    "### Usage example: Multiverse Analysis\n",
    "\n",
    "Required comet modules are:\n",
    "* ```comet.multiverse``` (contains all functions related to multiverse analysis)\n",
    "\n",
    "To conduct a multiverse analysis, the forking paths must be specified in a dictionary. Options can contain:\n",
    "* strings\n",
    "* numerical values\n",
    "* boolean values\n",
    "* comet dFC methods\n",
    "* comet and bct graph measures"
   ]
  },
  {
   "cell_type": "code",
   "execution_count": 4,
   "metadata": {},
   "outputs": [],
   "source": [
    "from comet.multiverse import Multiverse\n",
    "\n",
    "forking_paths = {\n",
    "    \"strings\": [\"Hello\", \"world\"],\n",
    "    \"numbers\": [1, 4.2],\n",
    "    \"booleans\": [True, False],\n",
    "    \n",
    "    \"dfc_measures\": [{\n",
    "                        \"name\": \"FLS\",\n",
    "                        \"connectivity\": \"FlexibleLeastSquares\",\n",
    "                        \"input_data\": \"ts\",\n",
    "                        \"args\": {\n",
    "                                }\n",
    "                        },\n",
    "                        {\n",
    "                        \"name\": \"JC11\",\n",
    "                        \"connectivity\": \"Jackknife\",\n",
    "                        \"input_data\": \"ts\",\n",
    "                        \"args\": { \n",
    "                                \"windowsize\": 11,\n",
    "                                }\n",
    "                        }],\n",
    "    \n",
    "    \"graph_measures\": [{\n",
    "                        \"name\": \"efficiency_bct\",\n",
    "                        \"graph\": \"bct.efficiency_wei\",\n",
    "                        \"input_data\": \"W\",\n",
    "                        \"args\": {   \n",
    "                                \"local\": True,\n",
    "                                }\n",
    "                        },\n",
    "                        {\n",
    "                        \"name\": \"efficiency_comet\",\n",
    "                        \"graph\": \"comet.graph.efficiency_wei\",\n",
    "                        \"input_data\": \"W\",\n",
    "                        \"args\": {   \n",
    "                                \"local\": True,\n",
    "                                }\n",
    "                        }]\n",
    "}"
   ]
  },
  {
   "cell_type": "markdown",
   "metadata": {},
   "source": [
    "With the decisions and options defined, an analysis template has to be specified. This is similar to a standard analysis pipeline with three additional requirements:\n",
    "\n",
    "* The template is required to be encapsulated in a dedicated function\n",
    "* Required imports need to be within the template function\n",
    "* Decision points need to be specified in double brackets: ```{{decision}}```\n",
    "\n",
    "In this brief example, the corresponding string, number, and boolean decision will be printed in each universe. Then, connevtivity will be estimated with the corresponding dFC method, and local efficiency is calculated with either the BCT or Comet implementation:"
   ]
  },
  {
   "cell_type": "code",
   "execution_count": 5,
   "metadata": {},
   "outputs": [],
   "source": [
    "def analysis_template():\n",
    "    import numpy as np\n",
    "    import bct\n",
    "    import comet\n",
    "\n",
    "    print(f\"Decision 1: {{strings}}\")\n",
    "    print(f\"Decision 2: {{numbers}}\")\n",
    "    print(f\"Decision 3:{{booleans}}\")\n",
    "\n",
    "    # Load example data and calculate dFC + local efficiency\n",
    "    ts = comet.data.load_example()\n",
    "    dfc = {{dfc_measures}}\n",
    "    \n",
    "    efficiency = np.zeros((ts.shape[0], dfc.shape[1]))\n",
    "    for i in range(dfc.shape[2]):\n",
    "        W = dfc[:, :, i]\n",
    "        W = np.abs(W)\n",
    "        efficiency[i] = {{graph_measures}}\n",
    "\n",
    "    print(f\"Finished calculating local efficiency. Shape: {efficiency.shape}\")"
   ]
  },
  {
   "cell_type": "markdown",
   "metadata": {},
   "source": [
    "The forking paths dictionary defines 5 decision points consisting of 2 options each. Thus, the resulting multiverse will contain 2⁵=32 universes. A ```Multiverse``` object has to be created and can then be used to create, run, summarize, and visualize the multiverse.\n",
    "\n",
    "* ```multiverse.create()``` will generate Python scripts for all 32 universes. These scripts will be saved in a newly created ```example_multiverse/``` folder\n",
    "* ```multiverse.summary()``` will print the decisions for every universe. This information is also available as a .csv in the ```example_multiverse/results/``` folder\n",
    "* ```multiverse.run()``` will either run all or individual universes. If the computational resources allow for it, this can be parallelized by using e.g. ```multiverse.run(parallel=4)```"
   ]
  },
  {
   "cell_type": "code",
   "execution_count": 6,
   "metadata": {},
   "outputs": [
    {
     "name": "stdout",
     "output_type": "stream",
     "text": [
      "     Universe strings  numbers  booleans dfc_measures    graph_measures\n",
      "0  Universe_1   Hello      1.0      True          FLS    efficiency_bct\n",
      "1  Universe_2   Hello      1.0      True          FLS  efficiency_comet\n",
      "2  Universe_3   Hello      1.0      True         JC11    efficiency_bct\n",
      "3  Universe_4   Hello      1.0      True         JC11  efficiency_comet\n",
      "4  Universe_5   Hello      1.0     False          FLS    efficiency_bct\n",
      "\n",
      "Starting analysis for universe 1...\n",
      "Decision 1: 'Hello'\n",
      "Decision 2: 1\n",
      "Decision 3:True\n",
      "Calculating Flexible Least Squares, please wait...\n"
     ]
    },
    {
     "name": "stderr",
     "output_type": "stream",
     "text": [
      "100%|██████████| 10/10 [00:00<00:00, 732.95it/s]\n"
     ]
    },
    {
     "name": "stdout",
     "output_type": "stream",
     "text": [
      "Finished calculating local efficiency. Shape: (1040, 10)\n"
     ]
    }
   ],
   "source": [
    "multiverse = Multiverse(name=\"example_multiverse\")\n",
    "multiverse.create(analysis_template, forking_paths)\n",
    "multiverse.summary(type=\"head\")\n",
    "multiverse.run(universe_number=1)"
   ]
  }
 ],
 "metadata": {
  "kernelspec": {
   "display_name": "dfc-multiverse",
   "language": "python",
   "name": "python3"
  },
  "language_info": {
   "codemirror_mode": {
    "name": "ipython",
    "version": 3
   },
   "file_extension": ".py",
   "mimetype": "text/x-python",
   "name": "python",
   "nbconvert_exporter": "python",
   "pygments_lexer": "ipython3",
   "version": "3.11.5"
  }
 },
 "nbformat": 4,
 "nbformat_minor": 2
}
