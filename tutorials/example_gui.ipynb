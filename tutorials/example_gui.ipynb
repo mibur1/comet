{
 "cells": [
  {
   "cell_type": "markdown",
   "id": "76ad5adb",
   "metadata": {},
   "source": [
    "# Usage example: Graphical user interface\n",
    "\n",
    "You can open and analyse the following data in the GUI:\n",
    "- fMRIprep processed datasets\n",
    "- NIFTI files (.nii, .nii.gz)\n",
    "- CIFTI files (.dtseries.nii)\n",
    "- Time series data in various formats (.txt, .csv, .tsv, .npy, .mat)\n",
    "\n",
    "## Downloading data\n",
    "\n",
    "In this tutorial, we provide two examples for using the GUI. Use any (or both) of the following two code cells to download some sample data. You can also use your own data if available.\n",
    "\n",
    "1) Download a single NIFTI file from the ADHD dataset through nilearn and save it in the working directory (this will take a minute, change `verbose` to 1 if you want to see what's going on). "
   ]
  },
  {
   "cell_type": "code",
   "execution_count": 27,
   "id": "b92c5d2f",
   "metadata": {},
   "outputs": [],
   "source": [
    "from nilearn import datasets\n",
    "\n",
    "save_dir = \".\"\n",
    "haxby_data = datasets.fetch_adhd(data_dir=save_dir, n_subjects=1, verbose=0)"
   ]
  },
  {
   "cell_type": "markdown",
   "id": "72a5f05e",
   "metadata": {},
   "source": [
    "2) If you have [datalad](https://www.datalad.org/#install) (and git-annex) installed, you can also download fMRIprep processed data. The following code cell will download one BOLD run and the confounds file from the [Engaging in word recognition elicits highly specific modulations in visual cortex](https://openneuro.org/datasets/ds004489/versions/1.0.0) (ds004489) dataset from OpenNeuro:"
   ]
  },
  {
   "cell_type": "code",
   "execution_count": 28,
   "id": "cacffe64",
   "metadata": {},
   "outputs": [],
   "source": [
    "!datalad install https://github.com/OpenNeuroDatasets/ds004489.git\n",
    "!cd ds004489 && datalad get derivatives/sub-114/ses-1/func/sub-114_ses-1_task-catLoc_run-1_space-T1w_desc-preproc_bold.nii.gz && datalad get derivatives/sub-114/ses-1/func/sub-114_ses-1_task-catLoc_run-1_desc-confounds_timeseries.tsv"
   ]
  },
  {
   "cell_type": "markdown",
   "id": "b7aca261",
   "metadata": {},
   "source": [
    "## Starting the GUI\n",
    "\n",
    "The graphical user interface can be used by calling `comet-gui` in any terminal that has access to the Python environment comet was installed in.\n",
    "\n",
    "Alternatively, you can also run the following code in a Python script/Jupyter Notebook. Note that if you open the GUI multiple times from within the notebook, it will open in the background and you need to select in in the task bar."
   ]
  },
  {
   "cell_type": "code",
   "execution_count": 29,
   "id": "d97e5b60",
   "metadata": {},
   "outputs": [],
   "source": [
    "import comet\n",
    "\n",
    "comet.launch_gui()"
   ]
  },
  {
   "cell_type": "markdown",
   "id": "97997888",
   "metadata": {},
   "source": [
    "## Data preparation\n",
    "\n",
    "As a result, you should be greeted with the data tab of the graphical user interface.\n",
    "\n",
    "\n",
    "<img src=\"../src/comet/data/img/gui/init.png\" alt=\"init\" width=\"750\"/>"
   ]
  },
  {
   "cell_type": "markdown",
   "id": "c4345561",
   "metadata": {},
   "source": [
    "### Using a single NIFTI file\n",
    "\n",
    "Click on `Load from single file` and then open  `adhd/data/0010042/0010042_rest_tshift_RPI_voreg_mni.nii.gz` file.\n",
    "\n",
    "You will have multiple options for basic processing such as:\n",
    "- Detrending and standardizing the data (enabled by default)\n",
    "- Temporal filtering (requires the TR to be specified)\n",
    "- Parcelation scheme\n",
    "- Discarding of initial frames (nonstationary volumes are also detectted automatically)\n",
    "- ...\n",
    "\n",
    "Clicking the `Extract time series` button will then process and parcellate the time series. This data will then be available in the `Connectivity Analysis` tab.\n",
    "\n",
    "<img src=\"../src/comet/data/img/gui/single_ts.png\" alt=\"init\" width=\"750\"/>"
   ]
  },
  {
   "cell_type": "markdown",
   "id": "f8dac83b",
   "metadata": {},
   "source": [
    "### Using fMRIprep processed data\n",
    "\n",
    "Click on `Load from fMRIprep outputs` and open the `ds004489/derivatives` folder. \n",
    "\n",
    "After the data layout os loaded, select subject `sub114`, task `catLoc`, session `1`, and run `1`. Note: While the entire dataset is initialized, remember that we only downloaded the data for this specific participant/run.\n",
    "\n",
    "Similar processing options as for the single NIFTI file are available. However, as fMRIprep outputs also include a confounds file, further cleaning options are available in the `Cleaning strategy` box. For example, we here check the\n",
    "`motion`, `wm_csf`, and `high_pass` checkbox, to regress motion, white matter, and cerebrospinal fluid related confounds as well as to high-pass filter the signal. These cleaning strategies are implemented as docmented in [nilearn](https://nilearn.github.io/dev/modules/generated/nilearn.interfaces.fmriprep.load_confounds.html), and information is also available when hovering over the `i` icons in the GUI.\n",
    "\n",
    "Clicking the `Extract time series` button will then process and parcellate the time series. This data will then be available in the `Connectivity Analysis` tab.\n",
    "\n",
    "<img src=\"../src/comet/data/img/gui/fmriprep.png\" alt=\"init\" width=\"750\"/>"
   ]
  },
  {
   "cell_type": "markdown",
   "id": "3a0c3046",
   "metadata": {},
   "source": [
    "## Connectivity analysis\n",
    "\n",
    "After data was derived in the `Data Preparation` tab, connectivity estimation only requires users to select the method of choice and to specify the parameters. After estimation, key metrics and be explored on the right hand side of the GUI.\n",
    "\n",
    "*Note: For state-based connectivity, it might be desired to estimate this based on multiple time series. The GUI currently only allows this through *\n",
    "\n",
    "<img src=\"../src/comet/data/img/gui/conn.png\" alt=\"init\" width=\"750\"/>"
   ]
  },
  {
   "cell_type": "markdown",
   "id": "f7e2f50c",
   "metadata": {},
   "source": [
    "## Graph analysis\n",
    "\n",
    "If available, connectivity estimates from the `Connectivity analysis` tab can be used for graph analysis. Otherwise, connectivity estimates can be loaded from file.\n",
    "\n",
    "The workflow then is as follows:\n",
    "\n",
    "1. Processing steps such as dealing with negative values or thresholding can be beformed on the connectiivty matrices\n",
    "2. Graph measures can be estimated and are subsequently visualised in the  `Graph Measures` tab.\n",
    "\n",
    "<p float=\"left\">\n",
    "  <img src=\"../src/comet/data/img/gui/graph1.png\" alt=\"Graph 1\" width=\"600\"/>\n",
    "  <img src=\"../src/comet/data/img/gui/graph2.png\" alt=\"Graph 2\" width=\"600\"/>\n",
    "</p>"
   ]
  },
  {
   "cell_type": "markdown",
   "id": "68787ed4",
   "metadata": {},
   "source": [
    "## Multiverse analysis\n",
    "\n",
    "We advise users that multiverse analysis is best performed in code. However, we provide some multiverse functionality in the GUI as well. As a starting point, you can simply run the multiverse example provided with the GUI.\n",
    "\n",
    "1. Clicking on `Create multiverse` will open a file dialog for you to chose where to create the multiverse analysis folder\n",
    "2. Clicking on `Run multiverse` will then run the multiverse and create results figures in the `Multiverse Overview` and `Specification Curve` plotting tabs. \n",
    "\n",
    "\n",
    "<p float=\"left\">\n",
    "  <img src=\"../src/comet/data/img/gui/mv1.png\" alt=\"Multiverse 1\" width=\"600\"/>\n",
    "  <img src=\"../src/comet/data/img/gui/mv2.png\" alt=\"Multiverse 2\" width=\"600\"/>\n",
    "</p>\n",
    "\n",
    "You can modify the example as follows:\n",
    "\n",
    "1. Add e.g. the number `5` to the `number_2` decision and click the checkmark button.\n",
    "2. If you don't mind the previuous results to be overwritten, you can skip creating a new multiverse and simply press the `Run multiverse` to update the multiverse.\n",
    "\n",
    "If you have a multiverse analysis which was previously defined in a Jupyter Notebook (e.g. the tutorial multiverse example), you can load this into the GUI through the `Load script` button and subsequently interact with it. Multiverse decisions/options should be created or removed through the panel on the left side of the GUI, while code changes can be directly implemented on the right hand side of the GUI."
   ]
  }
 ],
 "metadata": {
  "kernelspec": {
   "display_name": "dfc-multiverse",
   "language": "python",
   "name": "python3"
  },
  "language_info": {
   "codemirror_mode": {
    "name": "ipython",
    "version": 3
   },
   "file_extension": ".py",
   "mimetype": "text/x-python",
   "name": "python",
   "nbconvert_exporter": "python",
   "pygments_lexer": "ipython3",
   "version": "3.11.0"
  }
 },
 "nbformat": 4,
 "nbformat_minor": 5
}
