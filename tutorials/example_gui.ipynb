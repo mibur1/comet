{
 "cells": [
  {
   "cell_type": "markdown",
   "id": "76ad5adb",
   "metadata": {},
   "source": [
    "# Usage example: Graphical user interface\n",
    "\n",
    "The graphical user interface can be used by calling `comet-gui` in the terminal, or by running the following code in a Python script/Jupyter Notebook:"
   ]
  },
  {
   "cell_type": "code",
   "execution_count": 1,
   "id": "47e2ce99",
   "metadata": {},
   "outputs": [
    {
     "name": "stderr",
     "output_type": "stream",
     "text": [
      "Gtk-Message: 16:06:35.988: Failed to load module \"xapp-gtk3-module\"\n"
     ]
    },
    {
     "name": "stdout",
     "output_type": "stream",
     "text": [
      "GUI closed with status 0\n"
     ]
    }
   ],
   "source": [
    "import comet\n",
    "\n",
    "comet.gui()"
   ]
  },
  {
   "cell_type": "markdown",
   "id": "97997888",
   "metadata": {},
   "source": [
    "As a result, you should be greeted with the data tab of the graphical user interface:\n",
    "\n"
   ]
  }
 ],
 "metadata": {
  "kernelspec": {
   "display_name": "dfc-multiverse",
   "language": "python",
   "name": "python3"
  },
  "language_info": {
   "codemirror_mode": {
    "name": "ipython",
    "version": 3
   },
   "file_extension": ".py",
   "mimetype": "text/x-python",
   "name": "python",
   "nbconvert_exporter": "python",
   "pygments_lexer": "ipython3",
   "version": "3.11.0"
  }
 },
 "nbformat": 4,
 "nbformat_minor": 5
}
