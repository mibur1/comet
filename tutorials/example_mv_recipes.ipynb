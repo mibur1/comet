{
 "cells": [
  {
   "cell_type": "markdown",
   "id": "76ad5adb",
   "metadata": {},
   "source": [
    "# Usage example: Multiverse recipes\n",
    "\n",
    "There are many ways of specifying and customizing complex multiverse analyses. The following code snippets aim to provide guidance regarding this."
   ]
  },
  {
   "cell_type": "markdown",
   "id": "8f8786f7",
   "metadata": {},
   "source": [
    "## Multiple ways of specifying classes/functions\n",
    "\n",
    "1. Specifying connectivity methods\n",
    "\n",
    "It is either possible the specify the method as a single function call:\n",
    "\n",
    "`comet.connectivity.SlidingWindow(ts).estimate()`\n",
    "\n",
    "or as a dictionary\n",
    "\n",
    "'''\n",
    "comet.connectivity.SlidingWindow(ts)\n",
    "'''\n",
    "\n"
   ]
  },
  {
   "cell_type": "code",
   "execution_count": null,
   "id": "47e2ce99",
   "metadata": {},
   "outputs": [],
   "source": []
  }
 ],
 "metadata": {
  "language_info": {
   "name": "python"
  }
 },
 "nbformat": 4,
 "nbformat_minor": 5
}
