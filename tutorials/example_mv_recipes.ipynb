{
 "cells": [
  {
   "cell_type": "markdown",
   "id": "76ad5adb",
   "metadata": {},
   "source": [
    "# Usage example: Multiverse recipes\n",
    "\n",
    "There are many ways of specifying and customizing complex multiverse analyses. The following code snippeds aim to provide guidance regarding this."
   ]
  },
  {
   "cell_type": "code",
   "execution_count": null,
   "id": "47e2ce99",
   "metadata": {},
   "outputs": [],
   "source": []
  }
 ],
 "metadata": {
  "language_info": {
   "name": "python"
  }
 },
 "nbformat": 4,
 "nbformat_minor": 5
}
