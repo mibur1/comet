{
 "cells": [
  {
   "cell_type": "markdown",
   "metadata": {},
   "source": [
    "# EEG preprocessing multiverse example\n",
    "\n",
    "We first define the forking paths:"
   ]
  },
  {
   "cell_type": "code",
   "execution_count": 1,
   "metadata": {},
   "outputs": [],
   "source": [
    "from comet.multiverse import Multiverse\n",
    "\n",
    "forking_paths = {\n",
    "    \"software\": ['MNE', 'FieldTrip', 'EEGLab'],\n",
    "    \"normalization\": ['min-max', 'relative', 'z-score', 'baseline'],\n",
    "    \"electrode\": ['Pz', 'O1', 'O2', 'P3', 'P4'],\n",
    "    \"rejection\": [80, 90, 100]\n",
    "}"
   ]
  },
  {
   "cell_type": "markdown",
   "metadata": {},
   "source": [
    "The template script then adds some signal + noise to a baseline value to create artificial data that systematically variates with some decisions:"
   ]
  },
  {
   "cell_type": "code",
   "execution_count": 2,
   "metadata": {},
   "outputs": [],
   "source": [
    "def analysis_template():\n",
    "    import os\n",
    "    import comet\n",
    "    import numpy as np\n",
    "\n",
    "    base_value = 2\n",
    "    if {{normalization}} == 'z-score':\n",
    "        base_value += 0.3\n",
    "    if {{electrode}} == 'Pz':\n",
    "        base_value += 1.0\n",
    "    if {{rejection}} == 80:\n",
    "        base_value += 0.4\n",
    "    outcome = base_value + np.random.normal(0, 0.5)\n",
    "\n",
    "    comet.data.save_universe_results(data=round(outcome, 3), universe=os.path.abspath(__file__))"
   ]
  },
  {
   "cell_type": "markdown",
   "metadata": {},
   "source": [
    "We can then create and run the multiverse:"
   ]
  },
  {
   "cell_type": "code",
   "execution_count": 4,
   "metadata": {},
   "outputs": [
    {
     "data": {
      "text/html": [
       "<div>\n",
       "<style scoped>\n",
       "    .dataframe tbody tr th:only-of-type {\n",
       "        vertical-align: middle;\n",
       "    }\n",
       "\n",
       "    .dataframe tbody tr th {\n",
       "        vertical-align: top;\n",
       "    }\n",
       "\n",
       "    .dataframe thead th {\n",
       "        text-align: right;\n",
       "    }\n",
       "</style>\n",
       "<table border=\"1\" class=\"dataframe\">\n",
       "  <thead>\n",
       "    <tr style=\"text-align: right;\">\n",
       "      <th></th>\n",
       "      <th>Universe</th>\n",
       "      <th>software</th>\n",
       "      <th>normalization</th>\n",
       "      <th>electrode</th>\n",
       "      <th>rejection</th>\n",
       "    </tr>\n",
       "  </thead>\n",
       "  <tbody>\n",
       "    <tr>\n",
       "      <th>0</th>\n",
       "      <td>Universe_1</td>\n",
       "      <td>MNE</td>\n",
       "      <td>min-max</td>\n",
       "      <td>Pz</td>\n",
       "      <td>80</td>\n",
       "    </tr>\n",
       "    <tr>\n",
       "      <th>1</th>\n",
       "      <td>Universe_2</td>\n",
       "      <td>MNE</td>\n",
       "      <td>min-max</td>\n",
       "      <td>Pz</td>\n",
       "      <td>90</td>\n",
       "    </tr>\n",
       "    <tr>\n",
       "      <th>2</th>\n",
       "      <td>Universe_3</td>\n",
       "      <td>MNE</td>\n",
       "      <td>min-max</td>\n",
       "      <td>Pz</td>\n",
       "      <td>100</td>\n",
       "    </tr>\n",
       "    <tr>\n",
       "      <th>3</th>\n",
       "      <td>Universe_4</td>\n",
       "      <td>MNE</td>\n",
       "      <td>min-max</td>\n",
       "      <td>O1</td>\n",
       "      <td>80</td>\n",
       "    </tr>\n",
       "    <tr>\n",
       "      <th>4</th>\n",
       "      <td>Universe_5</td>\n",
       "      <td>MNE</td>\n",
       "      <td>min-max</td>\n",
       "      <td>O1</td>\n",
       "      <td>90</td>\n",
       "    </tr>\n",
       "  </tbody>\n",
       "</table>\n",
       "</div>"
      ],
      "text/plain": [
       "     Universe software normalization electrode  rejection\n",
       "0  Universe_1      MNE       min-max        Pz         80\n",
       "1  Universe_2      MNE       min-max        Pz         90\n",
       "2  Universe_3      MNE       min-max        Pz        100\n",
       "3  Universe_4      MNE       min-max        O1         80\n",
       "4  Universe_5      MNE       min-max        O1         90"
      ]
     },
     "metadata": {},
     "output_type": "display_data"
    }
   ],
   "source": [
    "multiverse = Multiverse(name=\"example_eeg\")\n",
    "multiverse.create(analysis_template, forking_paths)\n",
    "multiverse.summary()\n",
    "#multiverse.run(parallel=10)\n"
   ]
  },
  {
   "cell_type": "code",
   "execution_count": 1,
   "metadata": {},
   "outputs": [
    {
     "ename": "NameError",
     "evalue": "name 'multiverse' is not defined",
     "output_type": "error",
     "traceback": [
      "\u001b[0;31m---------------------------------------------------------------------------\u001b[0m",
      "\u001b[0;31mNameError\u001b[0m                                 Traceback (most recent call last)",
      "Cell \u001b[0;32mIn[1], line 1\u001b[0m\n\u001b[0;32m----> 1\u001b[0m \u001b[43mmultiverse\u001b[49m\u001b[38;5;241m.\u001b[39msummary()\n\u001b[1;32m      2\u001b[0m multiverse\u001b[38;5;241m.\u001b[39mspecification_curve(measure\u001b[38;5;241m=\u001b[39m\u001b[38;5;124m'\u001b[39m\u001b[38;5;124mP100 amplitude\u001b[39m\u001b[38;5;130;01m\\n\u001b[39;00m\u001b[38;5;124mdifference across\u001b[39m\u001b[38;5;130;01m\\n\u001b[39;00m\u001b[38;5;124mconditions (μV)\u001b[39m\u001b[38;5;124m'\u001b[39m, p_value \u001b[38;5;241m=\u001b[39m \u001b[38;5;241m0.05\u001b[39m, cmap\u001b[38;5;241m=\u001b[39m\u001b[38;5;124m\"\u001b[39m\u001b[38;5;124mSet3\u001b[39m\u001b[38;5;124m\"\u001b[39m, figsize\u001b[38;5;241m=\u001b[39m(\u001b[38;5;241m11\u001b[39m,\u001b[38;5;241m7\u001b[39m), fontsize\u001b[38;5;241m=\u001b[39m\u001b[38;5;241m10\u001b[39m, height_ratio\u001b[38;5;241m=\u001b[39m[\u001b[38;5;241m1\u001b[39m,\u001b[38;5;241m1\u001b[39m], label_offset\u001b[38;5;241m=\u001b[39m\u001b[38;5;241m-\u001b[39m\u001b[38;5;241m0.1\u001b[39m)\n",
      "\u001b[0;31mNameError\u001b[0m: name 'multiverse' is not defined"
     ]
    }
   ],
   "source": [
    "multiverse.summary()\n",
    "multiverse.specification_curve(measure='P100 amplitude\\ndifference across\\nconditions (μV)', p_value = 0.05, cmap=\"Set3\", figsize=(11,7), fontsize=10, height_ratio=[1,1], label_offset=-0.1)"
   ]
  }
 ],
 "metadata": {
  "kernelspec": {
   "display_name": "dfc-multiverse",
   "language": "python",
   "name": "python3"
  },
  "language_info": {
   "codemirror_mode": {
    "name": "ipython",
    "version": 3
   },
   "file_extension": ".py",
   "mimetype": "text/x-python",
   "name": "python",
   "nbconvert_exporter": "python",
   "pygments_lexer": "ipython3",
   "version": "3.11.5"
  }
 },
 "nbformat": 4,
 "nbformat_minor": 2
}
